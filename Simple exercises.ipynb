{
 "cells": [
  {
   "cell_type": "code",
   "execution_count": null,
   "metadata": {
    "collapsed": false
   },
   "outputs": [],
   "source": [
    "#dice-rolling simulator\n",
    "from random import randint\n",
    "confirm=1\n",
    "while confirm:\n",
    "    print(randint(1,6))\n",
    "    confirm=int(input(\"Again?\")) #accepts 1 or 0\n",
    "print(\"Stopped\")"
   ]
  },
  {
   "cell_type": "code",
   "execution_count": null,
   "metadata": {
    "collapsed": false
   },
   "outputs": [],
   "source": [
    "#guess the number\n",
    "from random import randint\n",
    "n=randint(1,9)\n",
    "inp=0\n",
    "print(\"Guess a number between 0 and 10\")\n",
    "while(n!=inp):\n",
    "    try:\n",
    "        inp=int(input(\"\"))\n",
    "    except ValueError:\n",
    "        print(\"Not a number\")\n",
    "        continue\n",
    "    if(n!=inp):\n",
    "        print(\"False\")\n",
    "print(\"Correct\")"
   ]
  },
  {
   "cell_type": "code",
   "execution_count": null,
   "metadata": {
    "collapsed": true
   },
   "outputs": [],
   "source": []
  }
 ],
 "metadata": {
  "kernelspec": {
   "display_name": "Python 3",
   "language": "python",
   "name": "python3"
  },
  "language_info": {
   "codemirror_mode": {
    "name": "ipython",
    "version": 3
   },
   "file_extension": ".py",
   "mimetype": "text/x-python",
   "name": "python",
   "nbconvert_exporter": "python",
   "pygments_lexer": "ipython3",
   "version": "3.6.0"
  }
 },
 "nbformat": 4,
 "nbformat_minor": 2
}
