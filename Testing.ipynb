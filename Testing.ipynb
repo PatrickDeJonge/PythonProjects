{
 "cells": [
  {
   "cell_type": "code",
   "execution_count": 1,
   "metadata": {
    "collapsed": false,
    "scrolled": true
   },
   "outputs": [
    {
     "name": "stdout",
     "output_type": "stream",
     "text": [
      "enter number:4\n",
      "0 1 1 2 "
     ]
    }
   ],
   "source": [
    "def fibonacci(n): #generator function\n",
    "   a, b, counter = 0, 1, 0\n",
    "   while counter<=n:\n",
    "      yield a\n",
    "      a, b = b, a + b\n",
    "      counter += 1\n",
    "\n",
    "f = fibonacci(int(input(\"enter number:\"))-1) #f is iterator object\n",
    "\n",
    "while True:\n",
    "   try:\n",
    "      print (next(f), end=\" \")\n",
    "   except StopIteration:\n",
    "      break"
   ]
  },
  {
   "cell_type": "code",
   "execution_count": 13,
   "metadata": {
    "collapsed": false
   },
   "outputs": [
    {
     "name": "stdout",
     "output_type": "stream",
     "text": [
      "oud\n",
      "oud\n",
      "new\n",
      "new\n"
     ]
    }
   ],
   "source": [
    "def Changing(text):\n",
    "    global t\n",
    "    print(text)\n",
    "    t=\"new\"\n",
    "    print(t)\n",
    "    return\n",
    "\n",
    "t=\"oud\"\n",
    "print(t)\n",
    "Changing(t)\n",
    "print(t)"
   ]
  }
 ],
 "metadata": {
  "kernelspec": {
   "display_name": "Python 3",
   "language": "python",
   "name": "python3"
  },
  "language_info": {
   "codemirror_mode": {
    "name": "ipython",
    "version": 3
   },
   "file_extension": ".py",
   "mimetype": "text/x-python",
   "name": "python",
   "nbconvert_exporter": "python",
   "pygments_lexer": "ipython3",
   "version": "3.6.0"
  }
 },
 "nbformat": 4,
 "nbformat_minor": 2
}
